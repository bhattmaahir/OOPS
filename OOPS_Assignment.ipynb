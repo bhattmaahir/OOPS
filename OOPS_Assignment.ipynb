{
  "nbformat": 4,
  "nbformat_minor": 0,
  "metadata": {
    "colab": {
      "provenance": []
    },
    "kernelspec": {
      "name": "python3",
      "display_name": "Python 3"
    },
    "language_info": {
      "name": "python"
    }
  },
  "cells": [
    {
      "cell_type": "markdown",
      "source": [
        "#Python OOPs"
      ],
      "metadata": {
        "id": "2fp44YTo5qaU"
      }
    },
    {
      "cell_type": "markdown",
      "source": [
        "1. What is Object-Oriented Programming (OOP)?\n",
        "\n",
        "   Object-Oriented Programming (OOP) is a programming paradigm that uses objects and classes to organize code. Objects are instances of classes, and classes define the structure and behavior of objects. OOP focuses on modeling real-world entities and making code reusable, modular, and easy to maintain."
      ],
      "metadata": {
        "id": "WKYIECbR51b1"
      }
    },
    {
      "cell_type": "markdown",
      "source": [
        "2. What is a class in OOP?\n",
        "\n",
        "    A class is a blueprint for creating objects. It defines the attributes and behaviors that the objects of the class will have. A class is used to instantiate objects, which are real instances that hold data and methods."
      ],
      "metadata": {
        "id": "VPI_oGX-51nJ"
      }
    },
    {
      "cell_type": "markdown",
      "source": [
        "3. What is an object in OOP?\n",
        "\n",
        "    An object is an instance of a class. It holds specific data and can perform operations using the methods defined in its class. Objects are created from classes and represent real-world entities."
      ],
      "metadata": {
        "id": "WpDScT7o51zN"
      }
    },
    {
      "cell_type": "markdown",
      "source": [
        "4.  What is the difference between abstraction and encapsulation?\n",
        "\n",
        "    Abstraction is the concept of hiding the complex implementation details and showing only the necessary features of an object. It helps in focusing on high-level functionalities. For example, you only need to know how to start a car, not how the engine works inside.\n",
        "\n",
        "    Encapsulation is the practice of keeping the internal state of an object hidden from the outside world, exposing only the necessary methods to interact with that state. It is achieved using private and public access modifiers."
      ],
      "metadata": {
        "id": "cuSKyLtA51-9"
      }
    },
    {
      "cell_type": "markdown",
      "source": [
        "5.  What are dunder methods in Python?\n",
        "\n",
        "    Dunder methods (short for \"double underscore\") are special methods in Python, also known as magic methods or built-in methods. They have names that begin and end with double underscores, like __init__, __str__, and __repr__. These methods allow you to define or customize the behavior of objects for operations like initialization, string representation, and arithmetic operations."
      ],
      "metadata": {
        "id": "7V_J5kme52HO"
      }
    },
    {
      "cell_type": "markdown",
      "source": [
        "6. Explain the concept of inheritance in OOP.\n",
        "\n",
        "    Inheritance allows a class (child class) to inherit properties and behaviors (attributes and methods) from another class (parent class). It helps in reusing code and establishing a relationship between classes. For example, a Car class could inherit from a Vehicle class.\n",
        "\n"
      ],
      "metadata": {
        "id": "oD8W566r52PE"
      }
    },
    {
      "cell_type": "markdown",
      "source": [
        "7. What is polymorphism in OOP?\n",
        "\n",
        "    Polymorphism allows objects of different classes to be treated as objects of a common superclass. It lets a single method perform different operations based on the object it is acting upon. This is often implemented through method overriding in subclasses.\n",
        "\n",
        "\n",
        "\n"
      ],
      "metadata": {
        "id": "uDTEdC_E52WK"
      }
    },
    {
      "cell_type": "markdown",
      "source": [
        "8. How is encapsulation achieved in Python?\n",
        "\n",
        "    In Python, encapsulation is achieved by defining attributes and methods with access modifiers like private (denoted by a single or double underscore _ or __) and public (accessible directly). Python does not enforce strict encapsulation but relies on conventions.\n",
        ""
      ],
      "metadata": {
        "id": "_a2hfq9I52dy"
      }
    },
    {
      "cell_type": "markdown",
      "source": [
        "9. What is a constructor in Python?\n",
        "\n",
        "    A constructor is a special method in a class that is automatically called when an object of the class is created. It is used to initialize the object's state. In Python, the constructor method is __init__().\n"
      ],
      "metadata": {
        "id": "6MQK3SYe52lD"
      }
    },
    {
      "cell_type": "markdown",
      "source": [
        "10.  What are class and static methods in Python?\n",
        "\n",
        "    A class method is bound to the class rather than the instance and can modify class-level variables. It is defined with the @classmethod decorator.\n",
        "\n",
        "    A static method is a method that doesn’t modify or rely on the instance or class-level variables. It is defined with the @staticmethod decorator.\n",
        ""
      ],
      "metadata": {
        "id": "TvU8v_pu52tG"
      }
    },
    {
      "cell_type": "markdown",
      "source": [
        "11. What is method overloading in Python?\n",
        "\n",
        "    Python does not support method overloading in the traditional sense like some other languages. However, you can define multiple methods with different numbers of arguments using default arguments or variable-length arguments.\n"
      ],
      "metadata": {
        "id": "MklEcdtU520G"
      }
    },
    {
      "cell_type": "markdown",
      "source": [
        "12.  What is method overriding in OOP?\n",
        "\n",
        "    Method overriding occurs when a subclass provides a specific implementation of a method that is already defined in its superclass. This allows the subclass to modify or extend the behavior of the method.\n",
        "  "
      ],
      "metadata": {
        "id": "YAiYd_Cm528F"
      }
    },
    {
      "cell_type": "markdown",
      "source": [
        "13. What is a property decorator in Python?\n",
        "   \n",
        "    The property decorator allows you to define a method as an attribute, providing controlled access to private attributes while still allowing you to customize the behavior of getting or setting that attribute."
      ],
      "metadata": {
        "id": "OyME_H5T53Cy"
      }
    },
    {
      "cell_type": "markdown",
      "source": [
        "14. Why is polymorphism important in OOP?\n",
        "\n",
        "    Polymorphism allows for flexibility and scalability in code. It enables you to use the same method or operator with different data types, reducing redundancy and making the code easier to maintain. It also helps with writing more general and reusable code.\n",
        "    "
      ],
      "metadata": {
        "id": "47M_ZVJn53Jh"
      }
    },
    {
      "cell_type": "markdown",
      "source": [
        "15. What is an abstract class in Python?\n",
        "\n",
        "    An abstract class is a class that cannot be instantiated and is meant to be inherited by other classes. It can contain abstract methods, which are methods that must be implemented by subclasses. The abc module in Python provides the ABC class and abstractmethod decorator.\n",
        ""
      ],
      "metadata": {
        "id": "9cEkrfi253Qi"
      }
    },
    {
      "cell_type": "markdown",
      "source": [
        "16. What are the advantages of OOP?\n",
        "\n",
        "    Modularity: Code is organized into discrete classes and objects, making it easier to maintain and understand.\n",
        "\n",
        "    Reusability: Code can be reused through inheritance and polymorphism.\n",
        "\n",
        "    Scalability: OOP systems are often more scalable due to modular design.\n",
        "\n",
        "    Encapsulation: Data and behavior are bundled together, which leads to more secure code.\n",
        "  "
      ],
      "metadata": {
        "id": "1BQU-BWT53W-"
      }
    },
    {
      "cell_type": "markdown",
      "source": [
        "17. What is the difference between a class variable and an instance variable?\n",
        "\n",
        "    Class variables are shared by all instances of the class. They are defined within the class but outside any methods.\n",
        "\n",
        "    Instance variables are unique to each instance and are typically defined within the __init__ method."
      ],
      "metadata": {
        "id": "hk32Mc9a-NeN"
      }
    },
    {
      "cell_type": "markdown",
      "source": [
        "18. What is multiple inheritance in Python?\n",
        "\n",
        "    Multiple inheritance is when a class can inherit from more than one parent class. This is supported in Python, unlike some other languages."
      ],
      "metadata": {
        "id": "MJV9mu5i53kG"
      }
    },
    {
      "cell_type": "markdown",
      "source": [
        "19. Explain the purpose of ‘’__str__’ and ‘__repr__’ ‘ methods in Python.\n",
        "\n",
        "    __str__ is used to define a human-readable string representation of an object (for display).\n",
        "\n",
        "    __repr__ is used to define a string representation that, ideally, can be used to recreate the object (more formal and developer-focused).\n",
        "\n",
        "\n"
      ],
      "metadata": {
        "id": "5VAk_csw53rz"
      }
    },
    {
      "cell_type": "markdown",
      "source": [
        "20.  What is the significance of the ‘super()’ function in Python?\n",
        "\n",
        "    The super() function is used to call methods from a parent class in a subclass, especially when overriding a method. It is used to invoke the parent class’s constructor or method to extend its functionality.\n",
        "\n"
      ],
      "metadata": {
        "id": "9wAhm2_o53yV"
      }
    },
    {
      "cell_type": "markdown",
      "source": [
        "21. What is the significance of the __del__ method in Python?\n",
        "\n",
        "    The __del__ method is a destructor method that is automatically called when an object is about to be destroyed. It is used to clean up resources or perform finalization tasks.\n",
        ""
      ],
      "metadata": {
        "id": "TLDW_pea535V"
      }
    },
    {
      "cell_type": "markdown",
      "source": [
        "22. What is the difference between @staticmethod and @classmethod in Python?\n",
        "\n",
        "    @staticmethod defines a method that doesn’t operate on an instance or class. It behaves like a normal function but belongs to the class.\n",
        "\n",
        "    @classmethod defines a method that operates on the class itself and can access class variables. It takes cls as the first argument.\n",
        "\n",
        "\n",
        "    "
      ],
      "metadata": {
        "id": "0RGaie3r54BG"
      }
    },
    {
      "cell_type": "markdown",
      "source": [
        "23. How does polymorphism work in Python with inheritance?\n",
        "\n",
        "    Polymorphism in Python allows subclasses to define methods with the same name as those in their parent class, but with different behavior. This enables the use of the same interface for different types of objects.\n",
        "\n",
        "\n",
        "    "
      ],
      "metadata": {
        "id": "eyPKzQVr54It"
      }
    },
    {
      "cell_type": "markdown",
      "source": [
        "24. What is method chaining in Python OOP?\n",
        "\n",
        "    Method chaining is when methods are called sequentially on the same object, with each method returning the object itself or another object, allowing further method calls on it.\n",
        "\n"
      ],
      "metadata": {
        "id": "UZ2M-mSo54Oy"
      }
    },
    {
      "cell_type": "markdown",
      "source": [
        "25. What is the purpose of the __call__ method in Python?\n",
        "\n",
        "    The __call__ method allows an object to be called like a function. If a class implements __call__, an instance of the class can be invoked as if it were a function.\n",
        "\n",
        "\n"
      ],
      "metadata": {
        "id": "s3Px88pb5wvV"
      }
    },
    {
      "cell_type": "markdown",
      "source": [
        "# Practical Questions\n"
      ],
      "metadata": {
        "id": "k2YDjd6G_RBM"
      }
    },
    {
      "cell_type": "code",
      "source": [
        "# 1. Create a parent class Animal with a method speak() that prints a generic message. Create a child class Dog that overrides the speak() method to print \"Bark!\".\n",
        "\n",
        " # Parent class\n",
        "class Animal:\n",
        "    def speak(self):\n",
        "        print(\"Animal makes a sound\")\n",
        "\n",
        "# Child class\n",
        "class Dog(Animal):\n",
        "    def speak(self):\n",
        "        print(\"Bark!\")\n",
        "\n",
        "# Creating instances and testing\n",
        "animal = Animal()\n",
        "animal.speak()  # Output: Animal makes a sound\n",
        "\n",
        "dog = Dog()\n",
        "dog.speak()  # Output: Bark!\n"
      ],
      "metadata": {
        "colab": {
          "base_uri": "https://localhost:8080/"
        },
        "id": "1pdsBs2J_R6s",
        "outputId": "13f214dc-6567-4505-b551-38d71be3de80"
      },
      "execution_count": 48,
      "outputs": [
        {
          "output_type": "stream",
          "name": "stdout",
          "text": [
            "Animal makes a sound\n",
            "Bark!\n"
          ]
        }
      ]
    },
    {
      "cell_type": "code",
      "source": [
        "# 2. Write a program to create an abstract class Shape with a method area(). Derive classes Circle and Rectangle from it and implement the area() method in both.\n",
        "\n",
        "from abc import ABC, abstractmethod\n",
        "\n",
        "class Shape(ABC):\n",
        "    @abstractmethod\n",
        "    def area(self):\n",
        "        pass\n",
        "\n",
        "class Circle(Shape):\n",
        "    def __init__(self, radius):\n",
        "        self.radius = radius\n",
        "\n",
        "    def area(self):\n",
        "        return 3.1416 * self.radius * self.radius\n",
        "\n",
        "class Rectangle(Shape):\n",
        "    def __init__(self, length, width):\n",
        "        self.length = length\n",
        "        self.width = width\n",
        "\n",
        "    def area(self):\n",
        "        return self.length * self.width\n",
        "\n",
        "# Example usage\n",
        "circle = Circle(5)\n",
        "rectangle = Rectangle(4, 6)\n",
        "\n",
        "print(\"Circle Area:\", circle.area())\n",
        "print(\"Rectangle Area:\", rectangle.area())\n",
        "\n"
      ],
      "metadata": {
        "colab": {
          "base_uri": "https://localhost:8080/"
        },
        "id": "Z5A9ZnJw_a1Q",
        "outputId": "eb76cebb-d8e4-43f9-e545-66c1fbd0d31f"
      },
      "execution_count": 3,
      "outputs": [
        {
          "output_type": "stream",
          "name": "stdout",
          "text": [
            "Circle Area: 78.54\n",
            "Rectangle Area: 24\n"
          ]
        }
      ]
    },
    {
      "cell_type": "code",
      "source": [
        "# 3.  Implement a multi-level inheritance scenario where a class Vehicle has an attribute type. Derive a class Car and further derive a class ElectricCar that adds a battery attribute.\n",
        "\n",
        " # Base class\n",
        "class Vehicle:\n",
        "    def __init__(self, type_of_vehicle):\n",
        "        self.type = type_of_vehicle\n",
        "\n",
        "    def display_type(self):\n",
        "        print(f\"This is a {self.type}.\")\n",
        "\n",
        "# Derived class Car from Vehicle\n",
        "class Car(Vehicle):\n",
        "    def __init__(self, type_of_vehicle, brand):\n",
        "        # Call the constructor of the base class\n",
        "        super().__init__(type_of_vehicle)\n",
        "        self.brand = brand\n",
        "\n",
        "    def display_info(self):\n",
        "        print(f\"This is a {self.brand} car.\")\n",
        "\n",
        "# Further derived class ElectricCar from Car\n",
        "class ElectricCar(Car):\n",
        "    def __init__(self, type_of_vehicle, brand, battery_capacity):\n",
        "        # Call the constructor of the Car class\n",
        "        super().__init__(type_of_vehicle, brand)\n",
        "        self.battery_capacity = battery_capacity\n",
        "\n",
        "    def display_battery_info(self):\n",
        "        print(f\"This electric car has a battery capacity of {self.battery_capacity} kWh.\")\n",
        "\n",
        "# Creating an instance of ElectricCar\n",
        "my_electric_car = ElectricCar(\"Electric Vehicle\", \"Tesla\", 75)\n",
        "\n",
        "# Using methods from all levels of the class hierarchy\n",
        "my_electric_car.display_type()           # From Vehicle class\n",
        "my_electric_car.display_info()           # From Car class\n",
        "my_electric_car.display_battery_info()   # From ElectricCar class\n"
      ],
      "metadata": {
        "colab": {
          "base_uri": "https://localhost:8080/"
        },
        "id": "dw7jnc1A_cQK",
        "outputId": "95d00b18-54e2-408a-be57-1a6f8a7f658f"
      },
      "execution_count": 55,
      "outputs": [
        {
          "output_type": "stream",
          "name": "stdout",
          "text": [
            "This is a Electric Vehicle.\n",
            "This is a Tesla car.\n",
            "This electric car has a battery capacity of 75 kWh.\n"
          ]
        }
      ]
    },
    {
      "cell_type": "code",
      "source": [
        "# 4. Demonstrate polymorphism by creating a base class Bird with a method fly(). Create two derived classes Sparrow and Penguin that override the fly() method.\n",
        "\n",
        " # Base class Bird\n",
        "class Bird:\n",
        "    def fly(self):\n",
        "        print(\"This bird can fly.\")\n",
        "\n",
        "# Derived class Sparrow from Bird\n",
        "class Sparrow(Bird):\n",
        "    def fly(self):\n",
        "        print(\"The sparrow flies high in the sky.\")\n",
        "\n",
        "# Derived class Penguin from Bird\n",
        "class Penguin(Bird):\n",
        "    def fly(self):\n",
        "        print(\"Penguins can't fly. They swim instead.\")\n",
        "\n",
        "# Demonstrating polymorphism\n",
        "def bird_flight(bird: Bird):\n",
        "    bird.fly()\n",
        "\n",
        "# Creating objects of both derived classes\n",
        "sparrow = Sparrow()\n",
        "penguin = Penguin()\n",
        "\n",
        "# Polymorphic behavior: method fly() behaves differently based on the object\n",
        "bird_flight(sparrow)   # Output: The sparrow flies high in the sky.\n",
        "bird_flight(penguin)   # Output: Penguins can't fly. They swim instead.\n"
      ],
      "metadata": {
        "colab": {
          "base_uri": "https://localhost:8080/"
        },
        "id": "XAcuaQaK_dY1",
        "outputId": "2fd42e1e-4355-4c3b-828d-e7a0eb0424f4"
      },
      "execution_count": 57,
      "outputs": [
        {
          "output_type": "stream",
          "name": "stdout",
          "text": [
            "The sparrow flies high in the sky.\n",
            "Penguins can't fly. They swim instead.\n"
          ]
        }
      ]
    },
    {
      "cell_type": "code",
      "source": [
        "# 5. Write a program to demonstrate encapsulation by creating a class BankAccount with private attributes balance and methods to deposit, withdraw, and check balance.\n",
        "\n",
        "class BankAccount:\n",
        "    def __init__(self, balance=0):\n",
        "        self.__balance = balance  # Private attribute\n",
        "\n",
        "    def deposit(self, amount):\n",
        "        if amount > 0:\n",
        "            self.__balance += amount\n",
        "\n",
        "    def withdraw(self, amount):\n",
        "        if 0 < amount <= self.__balance:\n",
        "            self.__balance -= amount\n",
        "\n",
        "    def get_balance(self):\n",
        "        return self.__balance\n",
        "\n",
        "# Creating an instance of BankAccount\n",
        "account = BankAccount(500)\n",
        "\n",
        "# Performing operations\n",
        "account.deposit(300)\n",
        "account.withdraw(200)\n",
        "\n",
        "# Checking the balance\n",
        "print(\"Balance:\", account.get_balance())  # Output: Balance: 600\n"
      ],
      "metadata": {
        "colab": {
          "base_uri": "https://localhost:8080/"
        },
        "id": "-Ooxj6qr_eKu",
        "outputId": "1d7f9eca-4843-43df-9168-1ec82a3adaf9"
      },
      "execution_count": 63,
      "outputs": [
        {
          "output_type": "stream",
          "name": "stdout",
          "text": [
            "Balance: 600\n"
          ]
        }
      ]
    },
    {
      "cell_type": "code",
      "source": [
        "# 6.  Demonstrate runtime polymorphism using a method play() in a base class Instrument. Derive classes Guitar and Piano that implement their own version of play().\n",
        "\n",
        " # Base class\n",
        "class Instrument:\n",
        "    def play(self):\n",
        "        print(\"Playing a musical instrument.\")\n",
        "\n",
        "# Derived class Guitar from Instrument\n",
        "class Guitar(Instrument):\n",
        "    def play(self):\n",
        "        print(\"Strumming the guitar strings.\")\n",
        "\n",
        "# Derived class Piano from Instrument\n",
        "class Piano(Instrument):\n",
        "    def play(self):\n",
        "        print(\"Playing the piano keys.\")\n",
        "\n",
        "# Function to demonstrate runtime polymorphism\n",
        "def demonstrate_play(instrument: Instrument):\n",
        "    instrument.play()\n",
        "\n",
        "# Creating objects of Guitar and Piano\n",
        "guitar = Guitar()\n",
        "piano = Piano()\n",
        "\n",
        "# Polymorphism in action: The correct play() method is called at runtime\n",
        "demonstrate_play(guitar)  # Output: Strumming the guitar strings.\n",
        "demonstrate_play(piano)   # Output: Playing the piano keys.\n"
      ],
      "metadata": {
        "colab": {
          "base_uri": "https://localhost:8080/"
        },
        "id": "EdF2S_KEM6w6",
        "outputId": "7af0cbb6-9270-4651-fc1a-63cd50184081"
      },
      "execution_count": 64,
      "outputs": [
        {
          "output_type": "stream",
          "name": "stdout",
          "text": [
            "Strumming the guitar strings.\n",
            "Playing the piano keys.\n"
          ]
        }
      ]
    },
    {
      "cell_type": "code",
      "source": [
        "# 7. Create a class MathOperations with a class method add_numbers() to add two numbers and a static method subtract_numbers() to subtract two numbers.\n",
        "\n",
        "class MathOperations:\n",
        "    # Class method to add two numbers\n",
        "    @classmethod\n",
        "    def add_numbers(cls, a, b):\n",
        "        return a + b\n",
        "\n",
        "    # Static method to subtract two numbers\n",
        "    @staticmethod\n",
        "    def subtract_numbers(a, b):\n",
        "        return a - b\n",
        "\n",
        "# Using the class method to add numbers\n",
        "sum_result = MathOperations.add_numbers(10, 5)\n",
        "print(f\"Sum: {sum_result}\")  # Output: Sum: 15\n",
        "\n",
        "# Using the static method to subtract numbers\n",
        "sub_result = MathOperations.subtract_numbers(10, 5)\n",
        "print(f\"Difference: {sub_result}\")  # Output: Difference: 5\n"
      ],
      "metadata": {
        "colab": {
          "base_uri": "https://localhost:8080/"
        },
        "id": "0XuYT7sY_gAP",
        "outputId": "78117374-e8de-4a83-e0d6-b71c67d32c68"
      },
      "execution_count": 66,
      "outputs": [
        {
          "output_type": "stream",
          "name": "stdout",
          "text": [
            "Sum: 15\n",
            "Difference: 5\n"
          ]
        }
      ]
    },
    {
      "cell_type": "code",
      "source": [
        "# 8. Implement a class Person with a class method to count the total number of persons created.\n",
        "\n",
        "\n",
        "class Person:\n",
        "    count = 0  # Class attribute to keep track of the number of instances\n",
        "\n",
        "    def __init__(self, name):\n",
        "        self.name = name\n",
        "        Person.count += 1  # Increment the count each time a new instance is created\n",
        "\n",
        "    @classmethod\n",
        "    def total_persons(cls):\n",
        "        return cls.count  # Return the total count of persons\n",
        "\n",
        "# Example usage\n",
        "p1 = Person(\"Alice\")\n",
        "p2 = Person(\"Bob\")\n",
        "p3 = Person(\"Charlie\")\n",
        "\n",
        "print(\"Total persons created:\", Person.total_persons())"
      ],
      "metadata": {
        "colab": {
          "base_uri": "https://localhost:8080/"
        },
        "id": "H2uANxM-_hA9",
        "outputId": "20d95f7b-ac7b-49a3-ac21-7d7d712d9f6b"
      },
      "execution_count": 2,
      "outputs": [
        {
          "output_type": "stream",
          "name": "stdout",
          "text": [
            "Total persons created: 3\n"
          ]
        }
      ]
    },
    {
      "cell_type": "code",
      "source": [
        "# 9. Write a class Fraction with attributes numerator and denominator. Override the str method to display the fraction as \"numerator/denominator\".\n",
        "\n",
        "class Fraction:\n",
        "    def __init__(self, numerator, denominator):\n",
        "        self.numerator = numerator\n",
        "        self.denominator = denominator\n",
        "\n",
        "    def __str__(self):\n",
        "        return f\"{self.numerator}/{self.denominator}\"\n",
        "\n",
        "# Example usage\n",
        "frac1 = Fraction(3, 4)\n",
        "frac2 = Fraction(5, 8)\n",
        "\n",
        "print(\"Fraction 1:\", frac1)\n",
        "print(\"Fraction 2:\", frac2)\n"
      ],
      "metadata": {
        "colab": {
          "base_uri": "https://localhost:8080/"
        },
        "id": "GcnWJmA1_ifI",
        "outputId": "858c9c7f-0616-4609-e78b-44183049b1ac"
      },
      "execution_count": 4,
      "outputs": [
        {
          "output_type": "stream",
          "name": "stdout",
          "text": [
            "Fraction 1: 3/4\n",
            "Fraction 2: 5/8\n"
          ]
        }
      ]
    },
    {
      "cell_type": "code",
      "source": [
        "# 10. Demonstrate operator overloading by creating a class Vector and overriding the add method to add two vectors.\n",
        "\n",
        "class Vector:\n",
        "    def __init__(self, x, y):\n",
        "        self.x = x\n",
        "        self.y = y\n",
        "\n",
        "    def __add__(self, other):\n",
        "        return Vector(self.x + other.x, self.y + other.y)\n",
        "\n",
        "    def __str__(self):\n",
        "        return f\"({self.x}, {self.y})\"\n",
        "\n",
        "# Example usage\n",
        "v1 = Vector(2, 3)\n",
        "v2 = Vector(4, 5)\n",
        "v3 = v1 + v2  # Using operator overloading\n",
        "\n",
        "print(\"Vector 1:\", v1)\n",
        "print(\"Vector 2:\", v2)\n",
        "print(\"Sum of Vectors:\", v3)"
      ],
      "metadata": {
        "colab": {
          "base_uri": "https://localhost:8080/"
        },
        "id": "ORzRwzpa_jKd",
        "outputId": "bd842fa2-af47-4412-e552-c8c80c9342a0"
      },
      "execution_count": 5,
      "outputs": [
        {
          "output_type": "stream",
          "name": "stdout",
          "text": [
            "Vector 1: (2, 3)\n",
            "Vector 2: (4, 5)\n",
            "Sum of Vectors: (6, 8)\n"
          ]
        }
      ]
    },
    {
      "cell_type": "code",
      "source": [
        "# 11.  Create a class Person with attributes name and age. Add a method greet() that prints \"Hello, my name is {name} and I am {age} years old.\"\n",
        "\n",
        "class Person:\n",
        "    def __init__(self, name, age):\n",
        "        self.name = name\n",
        "        self.age = age\n",
        "\n",
        "    def greet(self):\n",
        "        print(f\"Hello, my name is {self.name} and I am {self.age} years old.\")\n",
        "\n",
        "# Example usage\n",
        "person1 = Person(\"Mehvish\", 25)\n",
        "person2 = Person(\"Mahir\", 30)\n",
        "\n",
        "person1.greet()\n",
        "person2.greet()\n"
      ],
      "metadata": {
        "colab": {
          "base_uri": "https://localhost:8080/"
        },
        "id": "V6gXz29m_jmv",
        "outputId": "7e3e94ed-afb6-479f-ebd1-c5d38ec02576"
      },
      "execution_count": 7,
      "outputs": [
        {
          "output_type": "stream",
          "name": "stdout",
          "text": [
            "Hello, my name is Mehvish and I am 25 years old.\n",
            "Hello, my name is Mahir and I am 30 years old.\n"
          ]
        }
      ]
    },
    {
      "cell_type": "code",
      "source": [
        "# 12. Implement a class Student with attributes name and grades. Create a method average_grade() to compute the average of the grades.\n",
        "\n",
        "class Student:\n",
        "    def __init__(self, name, grades):\n",
        "        self.name = name\n",
        "        self.grades = grades\n",
        "\n",
        "    def average_grade(self):\n",
        "        return sum(self.grades) / len(self.grades) if self.grades else 0\n",
        "\n",
        "    def __str__(self):\n",
        "        return f\"Student: {self.name}, Average Grade: {self.average_grade():.2f}\"\n",
        "\n",
        "# Example usage\n",
        "student1 = Student(\"Mahir\", [85, 90, 78])\n",
        "student2 = Student(\"Mehvish\", [92, 88, 84])\n",
        "\n",
        "print(student1)\n",
        "print(student2)\n"
      ],
      "metadata": {
        "colab": {
          "base_uri": "https://localhost:8080/"
        },
        "id": "8lFwGAHb_kKN",
        "outputId": "0497e3ea-385f-489a-d520-e0af33a0e082"
      },
      "execution_count": 10,
      "outputs": [
        {
          "output_type": "stream",
          "name": "stdout",
          "text": [
            "Student: Mahir, Average Grade: 84.33\n",
            "Student: Mehvish, Average Grade: 88.00\n"
          ]
        }
      ]
    },
    {
      "cell_type": "code",
      "source": [
        "# 13. Create a class Rectangle with methods set_dimensions() to set the dimensions and area() to calculate the area.\n",
        "\n",
        "class Rectangle:\n",
        "    def __init__(self, length=0, width=0):\n",
        "        self.length = length\n",
        "        self.width = width\n",
        "\n",
        "    def set_dimensions(self, length, width):\n",
        "        self.length = length\n",
        "        self.width = width\n",
        "\n",
        "    def area(self):\n",
        "        return self.length * self.width\n",
        "\n",
        "    def __str__(self):\n",
        "        return f\"Rectangle: Length={self.length}, Width={self.width}, Area={self.area()}\"\n",
        "\n",
        "# Example usage\n",
        "rect = Rectangle()\n",
        "rect.set_dimensions(4, 6)\n",
        "print(rect)"
      ],
      "metadata": {
        "colab": {
          "base_uri": "https://localhost:8080/"
        },
        "id": "aL01J04v_k18",
        "outputId": "a93a7646-c848-48cb-8942-f3b9137ef3b7"
      },
      "execution_count": 8,
      "outputs": [
        {
          "output_type": "stream",
          "name": "stdout",
          "text": [
            "Rectangle: Length=4, Width=6, Area=24\n"
          ]
        }
      ]
    },
    {
      "cell_type": "code",
      "source": [
        "# 14. Create a class Employee with a method calculate_salary() that computes the salary based on hours worked and hourly rate. Create a derived class Manager that adds a bonus to the salary.\n",
        "\n",
        "class Employee:\n",
        "    def __init__(self, name, hours_worked, hourly_rate):\n",
        "        self.name = name\n",
        "        self.hours_worked = hours_worked\n",
        "        self.hourly_rate = hourly_rate\n",
        "\n",
        "    def calculate_salary(self):\n",
        "        return self.hours_worked * self.hourly_rate\n",
        "\n",
        "    def __str__(self):\n",
        "        return f\"Employee: {self.name}, Salary: ${self.calculate_salary():.2f}\"\n",
        "\n",
        "class Manager(Employee):\n",
        "    def __init__(self, name, hours_worked, hourly_rate, bonus):\n",
        "        super().__init__(name, hours_worked, hourly_rate)\n",
        "        self.bonus = bonus\n",
        "\n",
        "    def calculate_salary(self):\n",
        "        return super().calculate_salary() + self.bonus\n",
        "\n",
        "    def __str__(self):\n",
        "        return f\"Manager: {self.name}, Salary: ${self.calculate_salary():.2f}, Bonus: ${self.bonus:.2f}\"\n",
        "\n",
        "# Example usage\n",
        "emp = Employee(\"Ali\", 160, 20)\n",
        "mgr = Manager(\"Mahir\", 160, 25, 1000)\n",
        "\n",
        "print(emp)\n",
        "print(mgr)"
      ],
      "metadata": {
        "colab": {
          "base_uri": "https://localhost:8080/"
        },
        "id": "OnUZ5GNC_lSR",
        "outputId": "b14a7196-5d06-4ae1-f346-cfec4aeb3c86"
      },
      "execution_count": 12,
      "outputs": [
        {
          "output_type": "stream",
          "name": "stdout",
          "text": [
            "Employee: Ali, Salary: $3200.00\n",
            "Manager: Mahir, Salary: $5000.00, Bonus: $1000.00\n"
          ]
        }
      ]
    },
    {
      "cell_type": "code",
      "source": [
        "# 15. Create a class Product with attributes name, price, and quantity. Implement a method total_price() that calculates the total price of the product.\n",
        "\n",
        "class Product:\n",
        "    def __init__(self, name, price, quantity):\n",
        "        self.name = name\n",
        "        self.price = price\n",
        "        self.quantity = quantity\n",
        "\n",
        "    def total_price(self):\n",
        "        return self.price * self.quantity\n",
        "\n",
        "    def __str__(self):\n",
        "        return f\"Product: {self.name}, Price: ${self.price:.2f}, Quantity: {self.quantity}, Total Price: ${self.total_price():.2f}\"\n",
        "\n",
        "# Example usage\n",
        "product1 = Product(\"Laptop\", 999.99, 3)\n",
        "product2 = Product(\"Headphones\", 50.00, 5)\n",
        "\n",
        "print(product1)\n",
        "print(product2)\n",
        "\n"
      ],
      "metadata": {
        "colab": {
          "base_uri": "https://localhost:8080/"
        },
        "id": "XbkjiAHd_l4l",
        "outputId": "c741b94a-b2f8-498e-a344-0e8e8f970cf9"
      },
      "execution_count": 13,
      "outputs": [
        {
          "output_type": "stream",
          "name": "stdout",
          "text": [
            "Product: Laptop, Price: $999.99, Quantity: 3, Total Price: $2999.97\n",
            "Product: Headphones, Price: $50.00, Quantity: 5, Total Price: $250.00\n"
          ]
        }
      ]
    },
    {
      "cell_type": "code",
      "source": [
        "# 16. Create a class Animal with an abstract method sound(). Create two derived classes Cow and Sheep that implement the sound() method.\n",
        "\n",
        "from abc import ABC, abstractmethod\n",
        "\n",
        "class Animal(ABC):\n",
        "    @abstractmethod\n",
        "    def sound(self):\n",
        "        pass\n",
        "\n",
        "class Cow(Animal):\n",
        "    def sound(self):\n",
        "        return \"Moo\"\n",
        "\n",
        "class Sheep(Animal):\n",
        "    def sound(self):\n",
        "        return \"Baa\"\n",
        "\n",
        "# Example usage\n",
        "cow = Cow()\n",
        "sheep = Sheep()\n",
        "\n",
        "print(f\"Cow sound: {cow.sound()}\")\n",
        "print(f\"Sheep sound: {sheep.sound()}\")\n"
      ],
      "metadata": {
        "colab": {
          "base_uri": "https://localhost:8080/"
        },
        "id": "9QIShiDV-fd5",
        "outputId": "6d2ceeb7-8f4d-4e74-ab2e-f14a8cd304f0"
      },
      "execution_count": 14,
      "outputs": [
        {
          "output_type": "stream",
          "name": "stdout",
          "text": [
            "Cow sound: Moo\n",
            "Sheep sound: Baa\n"
          ]
        }
      ]
    },
    {
      "cell_type": "code",
      "source": [
        "# 17. Create a class Book with attributes title, author, and year_published. Add a method get_book_info() that returns a formatted string with the book's details.\n",
        "\n",
        "class Book:\n",
        "    def __init__(self, title, author, year_published):\n",
        "        self.title = title\n",
        "        self.author = author\n",
        "        self.year_published = year_published\n",
        "\n",
        "    def get_book_info(self):\n",
        "        return f\"Title: {self.title}, Author: {self.author}, Year Published: {self.year_published}\"\n",
        "\n",
        "# Example usage\n",
        "book1 = Book(\"1984\", \"George Orwell\", 1949)\n",
        "book2 = Book(\"To Kill a Mockingbird\", \"Harper Lee\", 1960)\n",
        "\n",
        "print(book1.get_book_info())\n",
        "print(book2.get_book_info())\n"
      ],
      "metadata": {
        "colab": {
          "base_uri": "https://localhost:8080/"
        },
        "id": "DaoJ2nko-fnC",
        "outputId": "b11d68b1-9fe6-47c4-f1e2-5637b52f3fe9"
      },
      "execution_count": 15,
      "outputs": [
        {
          "output_type": "stream",
          "name": "stdout",
          "text": [
            "Title: 1984, Author: George Orwell, Year Published: 1949\n",
            "Title: To Kill a Mockingbird, Author: Harper Lee, Year Published: 1960\n"
          ]
        }
      ]
    },
    {
      "cell_type": "code",
      "source": [
        "# 18. Create a class House with attributes address and price. Create a derived class Mansion that adds an attribute number_of_rooms.\n",
        "\n",
        "class House:\n",
        "    def __init__(self, address, price):\n",
        "        self.address = address\n",
        "        self.price = price\n",
        "\n",
        "    def get_house_info(self):\n",
        "        return f\"Address: {self.address}, Price: ${self.price}\"\n",
        "\n",
        "class Mansion(House):\n",
        "    def __init__(self, address, price, number_of_rooms):\n",
        "        super().__init__(address, price)\n",
        "        self.number_of_rooms = number_of_rooms\n",
        "\n",
        "    def get_mansion_info(self):\n",
        "        return f\"{self.get_house_info()}, Number of Rooms: {self.number_of_rooms}\"\n",
        "\n",
        "# Example usage\n",
        "house = House(\"123 Main St\", 250000)\n",
        "mansion = Mansion(\"456 Luxury Blvd\", 5000000, 12)\n",
        "\n",
        "print(house.get_house_info())\n",
        "print(mansion.get_mansion_info())\n"
      ],
      "metadata": {
        "colab": {
          "base_uri": "https://localhost:8080/"
        },
        "id": "ChIIp4Vy-ftT",
        "outputId": "182d3af5-eba7-468b-b292-ba9aea7e07b1"
      },
      "execution_count": 16,
      "outputs": [
        {
          "output_type": "stream",
          "name": "stdout",
          "text": [
            "Address: 123 Main St, Price: $250000\n",
            "Address: 456 Luxury Blvd, Price: $5000000, Number of Rooms: 12\n"
          ]
        }
      ]
    }
  ]
}